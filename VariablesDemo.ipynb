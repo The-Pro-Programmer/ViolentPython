{
 "cells": [
  {
   "cell_type": "code",
   "execution_count": 4,
   "id": "0bd63ad8",
   "metadata": {},
   "outputs": [
    {
     "name": "stdout",
     "output_type": "stream",
     "text": [
      "[+] Checking for banner: FreeFloat FTP Server on Port: 21\n"
     ]
    }
   ],
   "source": [
    "port = 21\n",
    "banner = \"FreeFloat FTP Server\"\n",
    "print (\"[+] Checking for banner: \" + banner + \" on Port: \" + str(port))"
   ]
  },
  {
   "cell_type": "code",
   "execution_count": 7,
   "id": "e84b9c4f",
   "metadata": {},
   "outputs": [
    {
     "data": {
      "text/plain": [
       "str"
      ]
     },
     "execution_count": 7,
     "metadata": {},
     "output_type": "execute_result"
    }
   ],
   "source": [
    "#Checking Python interpreter's type casting abilities\n",
    "banner = \"Freefloat FTP Server\"\n",
    "type(banner)"
   ]
  },
  {
   "cell_type": "code",
   "execution_count": 8,
   "id": "d6183f5e",
   "metadata": {},
   "outputs": [
    {
     "data": {
      "text/plain": [
       "int"
      ]
     },
     "execution_count": 8,
     "metadata": {},
     "output_type": "execute_result"
    }
   ],
   "source": [
    "port = 21\n",
    "type(port)"
   ]
  },
  {
   "cell_type": "code",
   "execution_count": 9,
   "id": "afa77531",
   "metadata": {},
   "outputs": [
    {
     "data": {
      "text/plain": [
       "list"
      ]
     },
     "execution_count": 9,
     "metadata": {},
     "output_type": "execute_result"
    }
   ],
   "source": [
    "portList = [21,22,23,34]\n",
    "type(portList)"
   ]
  },
  {
   "cell_type": "code",
   "execution_count": 10,
   "id": "31279265",
   "metadata": {},
   "outputs": [
    {
     "data": {
      "text/plain": [
       "bool"
      ]
     },
     "execution_count": 10,
     "metadata": {},
     "output_type": "execute_result"
    }
   ],
   "source": [
    "portOpen = True\n",
    "type(portOpen)"
   ]
  },
  {
   "cell_type": "code",
   "execution_count": null,
   "id": "51590779",
   "metadata": {},
   "outputs": [],
   "source": []
  }
 ],
 "metadata": {
  "kernelspec": {
   "display_name": "Python 3",
   "language": "python",
   "name": "python3"
  },
  "language_info": {
   "codemirror_mode": {
    "name": "ipython",
    "version": 3
   },
   "file_extension": ".py",
   "mimetype": "text/x-python",
   "name": "python",
   "nbconvert_exporter": "python",
   "pygments_lexer": "ipython3",
   "version": "3.8.8"
  }
 },
 "nbformat": 4,
 "nbformat_minor": 5
}
